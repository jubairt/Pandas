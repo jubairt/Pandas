{
 "cells": [
  {
   "cell_type": "markdown",
   "metadata": {},
   "source": [
    "##### Date coverstion and merged cells"
   ]
  },
  {
   "cell_type": "code",
   "execution_count": null,
   "metadata": {},
   "outputs": [],
   "source": [
    "import pandas as pd\n",
    "\n",
    "# Example 1: Automatic Date Parsing\n",
    "# Example Excel file content:\n",
    "# Name,Date of Birth\n",
    "# Alice,01/15/1990\n",
    "# Bob,12/22/1985\n",
    "# Charlie,07/30/1978\n",
    "\n",
    "# Load Excel file with automatic date parsing\n",
    "df = pd.read_excel('example_dates.xlsx')\n",
    "\n",
    "# Display the DataFrame and check data types\n",
    "# print(df)\n",
    "# print(df.dtypes)\n",
    "# Output:\n",
    "#       Name Date of Birth\n",
    "# 0    Alice    1990-01-15\n",
    "# 1      Bob    1985-12-22\n",
    "# 2  Charlie    1978-07-30\n",
    "# Data types:\n",
    "# Name                 object\n",
    "# Date of Birth datetime64[ns]\n",
    "# dtype: object\n",
    "\n",
    "\n",
    "# Example 2: Explicit Date Conversion\n",
    "# Example Excel file content:\n",
    "# Name,Date of Birth\n",
    "# Alice,01/15/1990\n",
    "# Bob,12/22/1985\n",
    "# Charlie,07/30/1978\n",
    "\n",
    "# Load Excel file without automatic date parsing\n",
    "df = pd.read_excel('example_dates.xlsx', parse_dates=False)\n",
    "\n",
    "# Convert the 'Date of Birth' column to datetime\n",
    "df['Date of Birth'] = pd.to_datetime(df['Date of Birth'], format='%m/%d/%Y')\n",
    "\n",
    "# Display the DataFrame and check data types\n",
    "# print(df)\n",
    "# print(df.dtypes)\n",
    "# Output:\n",
    "#       Name Date of Birth\n",
    "# 0    Alice    1990-01-15\n",
    "# 1      Bob    1985-12-22\n",
    "# 2  Charlie    1978-07-30\n",
    "# Data types:\n",
    "# Name                 object\n",
    "# Date of Birth datetime64[ns]\n",
    "# dtype: object\n",
    "\n",
    "\n",
    "# Example 3: Handling Merged Cells\n",
    "# Example Excel file content:\n",
    "# Region,Name,Sales\n",
    "# North, Alice, 200\n",
    "#       Bob,   150\n",
    "# South, Charlie, 300\n",
    "\n",
    "# Load Excel file with merged cells\n",
    "df = pd.read_excel('example_merged_cells.xlsx', header=0)\n",
    "\n",
    "# Display the DataFrame\n",
    "# print(df)\n",
    "# Output:\n",
    "#   Region     Name  Sales\n",
    "# 0  North    Alice    200\n",
    "# 1  North      Bob    150\n",
    "# 2  South  Charlie    300\n"
   ]
  },
  {
   "cell_type": "markdown",
   "metadata": {},
   "source": [
    "#### Convert to excel"
   ]
  },
  {
   "cell_type": "markdown",
   "metadata": {},
   "source": [
    "Basic Saving: Use df.to_excel() to save a DataFrame to an Excel file."
   ]
  },
  {
   "cell_type": "code",
   "execution_count": null,
   "metadata": {},
   "outputs": [],
   "source": [
    "import pandas as pd\n",
    "\n",
    "# Create a DataFrame\n",
    "data = {\n",
    "    'Name': ['Alice', 'Bob', 'Charlie'],\n",
    "    'Age': [25, 30, 35],\n",
    "    'City': ['New York', 'Los Angeles', 'Chicago']\n",
    "}\n",
    "df = pd.DataFrame(data)\n",
    "\n",
    "# Save the DataFrame to an Excel file\n",
    "df.to_excel('output.xlsx', sheet_name='Sheet1', index=False)\n"
   ]
  },
  {
   "cell_type": "markdown",
   "metadata": {},
   "source": [
    "Multiple Sheets: Use pd.ExcelWriter to handle multiple sheets within a single Excel file"
   ]
  },
  {
   "cell_type": "code",
   "execution_count": null,
   "metadata": {},
   "outputs": [],
   "source": [
    "import pandas as pd\n",
    "\n",
    "# Create multiple DataFrames\n",
    "data1 = {\n",
    "    'Name': ['Alice', 'Bob'],\n",
    "    'Age': [25, 30]\n",
    "}\n",
    "df1 = pd.DataFrame(data1)\n",
    "\n",
    "data2 = {\n",
    "    'Product': ['Laptop', 'Phone'],\n",
    "    'Price': [1200, 800]\n",
    "}\n",
    "df2 = pd.DataFrame(data2)\n",
    "\n",
    "# Save multiple DataFrames to different sheets\n",
    "with pd.ExcelWriter('multi_sheets.xlsx') as writer:\n",
    "    df1.to_excel(writer, sheet_name='Personal Info', index=False)\n",
    "    df2.to_excel(writer, sheet_name='Product Info', index=False)\n"
   ]
  },
  {
   "cell_type": "markdown",
   "metadata": {},
   "source": [
    "Index and Columns: Customize the output to include or exclude row indices and specific columns."
   ]
  },
  {
   "cell_type": "code",
   "execution_count": null,
   "metadata": {},
   "outputs": [],
   "source": [
    "import pandas as pd\n",
    "\n",
    "# Create a DataFrame\n",
    "data = {\n",
    "    'Name': ['Alice', 'Bob', 'Charlie'],\n",
    "    'Age': [25, 30, 35],\n",
    "    'City': ['New York', 'Los Angeles', 'Chicago']\n",
    "}\n",
    "df = pd.DataFrame(data)\n",
    "\n",
    "# Save DataFrame with index and headers\n",
    "df.to_excel('with_index_and_header.xlsx', sheet_name='Data', index=True, header=True)\n",
    "\n",
    "# Save DataFrame without index and with selected columns\n",
    "df.to_excel('without_index_and_custom_columns.xlsx', sheet_name='Data', index=False, columns=['Name', 'City'])\n"
   ]
  },
  {
   "cell_type": "markdown",
   "metadata": {},
   "source": [
    "##### Formating challenges"
   ]
  },
  {
   "cell_type": "markdown",
   "metadata": {},
   "source": [
    "Excel supports various formatting options (e.g., fonts, colors, cell merging), but these are not directly managed by Pandas. However, you can still address some formatting needs using additional libraries like openpyxl or xlsxwriter.\n",
    "\n",
    "Example: Formatting with xlsxwriter"
   ]
  },
  {
   "cell_type": "code",
   "execution_count": null,
   "metadata": {},
   "outputs": [],
   "source": [
    "import pandas as pd\n",
    "\n",
    "# Create a DataFrame\n",
    "df = pd.DataFrame({\n",
    "    'Name': ['Alice', 'Bob', 'Charlie'],\n",
    "    'Salary': [50000, 60000, 55000]\n",
    "})\n",
    "\n",
    "# Save DataFrame to Excel with formatting\n",
    "with pd.ExcelWriter('formatted_output.xlsx', engine='xlsxwriter') as writer:\n",
    "    df.to_excel(writer, sheet_name='Data', index=False)\n",
    "\n",
    "    # Access the XlsxWriter workbook and worksheet objects\n",
    "    workbook  = writer.book\n",
    "    worksheet = writer.sheets['Data']\n",
    "\n",
    "    # Add formatting\n",
    "    \n",
    "    format_bold = workbook.add_format({'bold': True})\n",
    "    format_currency = workbook.add_format({'num_format': '$#,##0'})\n",
    "\n",
    "    # Apply formatting\n",
    "    worksheet.set_row(0, None, format_bold)  # Bold header row\n",
    "    worksheet.set_column('B:B', None, format_currency)  # Format Salary column as currency\n"
   ]
  }
 ],
 "metadata": {
  "kernelspec": {
   "display_name": "Python 3",
   "language": "python",
   "name": "python3"
  },
  "language_info": {
   "name": "python",
   "version": "3.12.4"
  }
 },
 "nbformat": 4,
 "nbformat_minor": 2
}
