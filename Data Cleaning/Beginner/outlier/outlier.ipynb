{
 "cells": [
  {
   "cell_type": "markdown",
   "metadata": {
    "vscode": {
     "languageId": "plaintext"
    }
   },
   "source": [
    "##### Quartile"
   ]
  },
  {
   "cell_type": "markdown",
   "metadata": {},
   "source": [
    "1. Interquartile Range (IQR) Method\n",
    "The IQR is the range between the first quartile (25th percentile) and the third quartile (75th percentile) of the data. It is a measure of statistical dispersion. Outliers are typically defined as data points that fall below the first quartile minus 1.5 times the IQR or above the third quartile plus 1.5 times the IQR.\n",
    "\n",
    "Steps to Identify Outliers Using IQR:\n",
    "\n",
    "Calculate the first quartile (Q1) and the third quartile (Q3).\n",
    "\n",
    "Compute the IQR as IQR = Q3 - Q1.\n",
    "\n",
    "Determine the lower bound as Q1 - 1.5 * IQR.\n",
    "\n",
    "Determine the upper bound as Q3 + 1.5 * IQR.\n",
    "\n",
    "Any data points below the lower bound or above the upper bound are considered outliers."
   ]
  },
  {
   "cell_type": "code",
   "execution_count": null,
   "metadata": {},
   "outputs": [],
   "source": [
    "import pandas as pd\n",
    "import numpy as np\n",
    "\n",
    "# Creating a DataFrame with a column that has outliers\n",
    "data = {'Values': [10, 12, 14, 15, 18, 22, 24, 100, 110, 120]}\n",
    "df = pd.DataFrame(data)\n",
    "\n",
    "# Calculating Q1 (25th percentile) and Q3 (75th percentile)\n",
    "Q1 = df['Values'].quantile(0.25)\n",
    "Q3 = df['Values'].quantile(0.75)\n",
    "\n",
    "# Calculating the IQR\n",
    "IQR = Q3 - Q1\n",
    "\n",
    "# Determining the bounds\n",
    "lower_bound = Q1 - 1.5 * IQR\n",
    "upper_bound = Q3 + 1.5 * IQR\n",
    "\n",
    "# Identifying outliers\n",
    "outliers_iqr = df[(df['Values'] < lower_bound) | (df['Values'] > upper_bound)]\n",
    "\n",
    "print(\"IQR Method:\")\n",
    "print(f\"Lower Bound: {lower_bound}, Upper Bound: {upper_bound}\")\n",
    "print(\"Outliers identified using IQR method:\")\n",
    "print(outliers_iqr)\n",
    "# Output:\n",
    "# IQR Method:\n",
    "# Lower Bound: -3.5, Upper Bound: 45.5\n",
    "# Outliers identified using IQR method:\n",
    "#    Values\n",
    "# 7     100\n",
    "# 8     110\n",
    "# 9     120\n"
   ]
  },
  {
   "cell_type": "markdown",
   "metadata": {},
   "source": [
    "#### Standard deviation"
   ]
  },
  {
   "cell_type": "markdown",
   "metadata": {},
   "source": [
    "The Standard Deviation Method is a commonly used technique to identify outliers in datasets. It assumes that the data follows a normal distribution (bell-shaped curve). In this method, we set thresholds based on the standard deviation to determine which data points fall significantly far from the mean.\n",
    "\n",
    "Let me break this down for you:\n",
    "\n",
    "Key Concepts:\n",
    "Mean:\n",
    "\n",
    "The mean is the average value of all the data points in the dataset.\n",
    "It represents the \"center\" of the data.\n",
    "Standard Deviation (std):\n",
    "\n",
    "The standard deviation is a measure of how much the data points in the dataset vary from the mean.\n",
    "A small standard deviation means that most of the data points are close to the mean, while a large standard deviation indicates that the data points are spread out over a wide range of values.\n",
    "Normal Distribution:\n",
    "\n",
    "If data follows a normal distribution (or a bell curve), most of the data points cluster around the mean.\n",
    "A large portion of the data (approximately 68%) lies within 1 standard deviation of the mean.\n",
    "About 95% of the data lies within 2 standard deviations of the mean.\n",
    "Roughly 99.7% of the data lies within 3 standard deviations of the mean.\n",
    "Why Set Thresholds?\n",
    "The threshold is used to define a cutoff point that separates \"normal\" data from potential outliers.\n",
    "\n",
    "If a data point is more than a certain number of standard deviations away from the mean, it is considered unusual or an outlier.\n",
    "Commonly, we set the threshold at 2 or 3 standard deviations from the mean, based on how strict we want to be in identifying outliers:\n",
    "2 standard deviations: Identifies points in the outer 5% of the data (more aggressive in identifying outliers).\n",
    "3 standard deviations: Identifies points in the outer 0.3% of the data (more conservative in identifying outliers).\n",
    "Why 2 or 3 Standard Deviations?\n",
    "This choice comes from the empirical rule (also known as the 68-95-99.7 rule):\n",
    "\n",
    "1 standard deviation from the mean: Covers 68% of the data.\n",
    "2 standard deviations from the mean: Covers 95% of the data.\n",
    "3 standard deviations from the mean: Covers 99.7% of the data.\n",
    "Interpretation:\n",
    "If you choose a 2 standard deviation threshold, you are saying: \"Any data point that falls outside the range of the mean ± 2 standard deviations is unusual and may be an outlier.\"\n",
    "If you choose a 3 standard deviation threshold, you are stricter and are looking for only the most extreme outliers. This will exclude fewer data points as outliers."
   ]
  },
  {
   "cell_type": "code",
   "execution_count": null,
   "metadata": {},
   "outputs": [],
   "source": [
    "import pandas as pd\n",
    "\n",
    "# Example Data\n",
    "data = {'Values': [10, 12, 14, 15, 18, 22, 24, 100, 110, 120]}\n",
    "df = pd.DataFrame(data)\n",
    "\n",
    "# Calculating the mean and standard deviation\n",
    "mean = df['Values'].mean()  # Mean of the data\n",
    "std = df['Values'].std()  # Standard deviation of the data\n",
    "\n",
    "# Setting a threshold of 2 standard deviations\n",
    "threshold = 2\n",
    "\n",
    "# Calculating the lower and upper bounds\n",
    "lower_bound_std = mean - threshold * std\n",
    "upper_bound_std = mean + threshold * std\n",
    "\n",
    "# Identifying outliers\n",
    "outliers_std = df[(df['Values'] < lower_bound_std) | (df['Values'] > upper_bound_std)]\n",
    "\n",
    "print(f\"Lower Bound: {lower_bound_std}, Upper Bound: {upper_bound_std}\")\n",
    "print(\"Outliers identified using Standard Deviation method:\")\n",
    "print(outliers_std)\n"
   ]
  },
  {
   "cell_type": "markdown",
   "metadata": {},
   "source": [
    "Mean and Standard Deviation:\n",
    "\n",
    "Let's say the mean (mean) of this dataset is 55.5, and the standard deviation (std) is 31.21.\n",
    "These numbers summarize where the \"center\" of the data is (mean) and how spread out the data is (standard deviation).\n",
    "Threshold:\n",
    "\n",
    "In this example, we set the threshold to 2 standard deviations. This means we are interested in data points that are more than 2 standard deviations away from the mean.\n",
    "Lower and Upper Bounds:\n",
    "\n",
    "We calculate the bounds as:\n",
    "Lower Bound = mean - 2 * std = 55.5 - 2 * 31.21 = -6.92\n",
    "Upper Bound = mean + 2 * std = 55.5 + 2 * 31.21 = 117.92\n",
    "Any data points outside this range are considered outliers.\n",
    "Identifying Outliers:\n",
    "\n",
    "In the given data, the points 100, 110, and 120 exceed the upper bound of 117.92, and hence they are flagged as outliers."
   ]
  },
  {
   "cell_type": "markdown",
   "metadata": {},
   "source": [
    "# Z-score"
   ]
  },
  {
   "cell_type": "markdown",
   "metadata": {},
   "source": [
    "The Z-score method is another commonly used technique for detecting outliers. The Z-score tells you how many standard deviations a data point is from the mean of the dataset. The further a data point is from the mean, the more likely it is to be an outlier.\n",
    "\n",
    "What is a Z-score?\n",
    "The Z-score, also known as the standard score, is calculated by the following formula:\n",
    "\n",
    "(equation of z-score):ask chatgpt\n",
    "\n",
    "​\n",
    " \n",
    "Where:\n",
    "\n",
    "X is the value of the data point.\n",
    "\\mu is the mean of the dataset.\n",
    "\\sigma is the standard deviation of the dataset.\n",
    "Interpretation of Z-score:\n",
    "A Z-score of 0 indicates that the data point is exactly at the mean of the dataset.\n",
    "A positive Z-score indicates that the data point is above the mean.\n",
    "A negative Z-score indicates that the data point is below the mean.\n",
    "The magnitude of the Z-score tells you how far away (in terms of standard deviations) the data point is from the mean.\n",
    "Why Set a Z-score Threshold?\n",
    "In most datasets, if the data is normally distributed (i.e., follows a bell-shaped curve):\n",
    "\n",
    "About 68% of the data falls within 1 standard deviation of the mean (Z-scores between -1 and 1).\n",
    "About 95% of the data falls within 2 standard deviations of the mean (Z-scores between -2 and 2).\n",
    "About 99.7% of the data falls within 3 standard deviations of the mean (Z-scores between -3 and 3).\n",
    "Therefore, any data point that has a Z-score greater than 3 or less than -3 is considered an extreme value or outlier, as it lies far beyond the range of the vast majority of the data.\n",
    "\n",
    "Steps to Identify Outliers Using Z-score:\n",
    "Calculate the Z-score for each data point.\n",
    "Set a Z-score threshold (typically 3 or -3) to determine what you consider an outlier.\n",
    "Identify data points that have Z-scores beyond the set threshold (either above +3 or below -3)."
   ]
  },
  {
   "cell_type": "code",
   "execution_count": null,
   "metadata": {},
   "outputs": [],
   "source": [
    "import pandas as pd\n",
    "from scipy.stats import zscore\n",
    "\n",
    "# Creating a DataFrame with a column that has potential outliers\n",
    "data = {'Values': [10, 12, 14, 15, 18, 22, 24, 100, 110, 120]}\n",
    "df = pd.DataFrame(data)\n",
    "\n",
    "# Calculating the Z-scores for the 'Values' column\n",
    "df['Z-score'] = zscore(df['Values'])\n",
    "\n",
    "# Identifying outliers with Z-score above 3 or below -3\n",
    "outliers_zscore = df[(df['Z-score'] > 3) | (df['Z-score'] < -3)]\n",
    "\n",
    "print(\"Z-score Method:\")\n",
    "print(\"Outliers identified using Z-score method:\")\n",
    "print(outliers_zscore)\n"
   ]
  },
  {
   "cell_type": "markdown",
   "metadata": {},
   "source": [
    "Explanation:\n",
    "Calculating Z-scores:\n",
    "\n",
    "The Z-score for each data point is calculated using the zscore function from the scipy.stats library. This function automatically computes the Z-score for every value in the 'Values' column. The Z-scores are added to a new column, 'Z-score', in the DataFrame.\n",
    "\n",
    "Here’s what the Z-score calculation does:\n",
    "\n",
    "For each data point, it subtracts the mean of the data (μ) from the value (X) and divides by the standard deviation (σ).\n",
    "This standardizes the data, transforming the values into a scale where the mean is 0 and the standard deviation is 1.\n",
    "Here's what happens to each value in the Values column:\n",
    "\n",
    "Small values like 10 and 12 get low Z-scores (close to zero).\n",
    "Large values like 100, 110, and 120 get higher Z-scores (greater than 3), which suggests they are significantly far from the mean.\n",
    "Setting the Z-score Threshold:\n",
    "\n",
    "The threshold of 3 or -3 is chosen because, according to the properties of a normal distribution, almost all data (99.7%) should lie within ±3 standard deviations from the mean. Any data point with a Z-score beyond this range (greater than +3 or less than -3) is considered an outlier because it is far from the central cluster of data.\n",
    "\n",
    "Identifying Outliers:\n",
    "\n",
    "After calculating the Z-scores, we filter the DataFrame to find rows where the Z-score is greater than 3 or less than -3. In this case, the outliers are the values 100, 110, and 120, which have Z-scores of approximately 2.56, 2.96, and 3.37, respectively."
   ]
  },
  {
   "cell_type": "markdown",
   "metadata": {},
   "source": [
    "### Capping and Flooring"
   ]
  },
  {
   "cell_type": "markdown",
   "metadata": {},
   "source": [
    "Capping and flooring are methods used to handle outliers by limiting extreme values to a specific range, rather than removing or transforming them completely. These techniques are common in machine learning and statistics when you want to mitigate the influence of extreme values without discarding any data points.\n",
    "\n",
    "Capping: Limiting extreme high values (outliers above the upper bound) to a maximum threshold.\n",
    "Flooring: Limiting extreme low values (outliers below the lower bound) to a minimum threshold.\n",
    "By capping or flooring, you replace the extreme outliers with predefined thresholds so that the distribution becomes more robust, preventing those extreme values from unduly influencing the analysis or models.\n",
    "\n",
    "Methods for Capping and Flooring\n",
    "You can choose thresholds for capping and flooring using:\n",
    "\n",
    "Percentiles: For example, capping values at the 95th percentile and flooring values at the 5th percentile.\n",
    "Statistical Rules: Using the IQR (Interquartile Range) or standard deviation methods to define thresholds."
   ]
  },
  {
   "cell_type": "code",
   "execution_count": null,
   "metadata": {},
   "outputs": [],
   "source": [
    "import pandas as pd\n",
    "import numpy as np\n",
    "\n",
    "# Creating a DataFrame with outliers\n",
    "data = {'Values': [10, 12, 14, 15, 18, 22, 24, 100, 110, 120]}\n",
    "df = pd.DataFrame(data)\n",
    "0\n",
    "# Calculate the 5th and 95th percentiles\n",
    "lower_cap = df['Values'].quantile(0.05)\n",
    "upper_cap = df['Values'].quantile(0.95)\n",
    "\n",
    "# Apply flooring and capping\n",
    "df['Capped_Values'] = df['Values'].apply(lambda x: upper_cap if x > upper_cap else (lower_cap if x < lower_cap else x))\n",
    "\n",
    "print(\"Original DataFrame:\")\n",
    "print(df)\n",
    "# Output:\n",
    "#    Values  Capped_Values\n",
    "# 0      10           10.0\n",
    "# 1      12           12.0\n",
    "# 2      14           14.0\n",
    "# 3      15           15.0\n",
    "# 4      18           18.0\n",
    "# 5      22           22.0\n",
    "# 6      24           24.0\n",
    "# 7     100           99.0\n",
    "# 8     110           99.0\n",
    "# 9     120           99.0\n",
    "\n",
    "print(f\"Lower Cap (5th percentile): {lower_cap}\")\n",
    "print(f\"Upper Cap (95th percentile): {upper_cap}\")\n"
   ]
  },
  {
   "cell_type": "markdown",
   "metadata": {},
   "source": [
    "Example: Capping and Flooring Based on IQR"
   ]
  },
  {
   "cell_type": "code",
   "execution_count": null,
   "metadata": {},
   "outputs": [],
   "source": [
    "# Calculate the first quartile (Q1) and the third quartile (Q3)\n",
    "Q1 = df['Values'].quantile(0.25)\n",
    "Q3 = df['Values'].quantile(0.75)\n",
    "\n",
    "# Calculate the IQR\n",
    "IQR = Q3 - Q1\n",
    "\n",
    "# Define lower and upper thresholds\n",
    "lower_bound = Q1 - 1.5 * IQR\n",
    "upper_bound = Q3 + 1.5 * IQR\n",
    "\n",
    "# Apply flooring and capping\n",
    "df['IQR_Capped_Values'] = df['Values'].apply(lambda x: upper_bound if x > upper_bound else (lower_bound if x < lower_bound else x))\n",
    "\n",
    "print(\"Original DataFrame with IQR-based Capped Values:\")\n",
    "print(df)\n",
    "# Output:\n",
    "#    Values  Capped_Values  IQR_Capped_Values\n",
    "# 0      10           10.0               10.0\n",
    "# 1      12           12.0               12.0\n",
    "# 2      14           14.0               14.0\n",
    "# 3      15           15.0               15.0\n",
    "# 4      18           18.0               18.0\n",
    "# 5      22           22.0               22.0\n",
    "# 6      24           24.0               24.0\n",
    "# 7     100           99.0               31.5\n",
    "# 8     110           99.0               31.5\n",
    "# 9     120           99.0               31.5\n",
    "\n",
    "print(f\"Lower Bound (IQR): {lower_bound}\")\n",
    "print(f\"Upper Bound (IQR): {upper_bound}\")\n"
   ]
  }
 ],
 "metadata": {
  "kernelspec": {
   "display_name": "Python 3",
   "language": "python",
   "name": "python3"
  },
  "language_info": {
   "codemirror_mode": {
    "name": "ipython",
    "version": 3
   },
   "file_extension": ".py",
   "mimetype": "text/x-python",
   "name": "python",
   "nbconvert_exporter": "python",
   "pygments_lexer": "ipython3",
   "version": "3.12.4"
  }
 },
 "nbformat": 4,
 "nbformat_minor": 2
}
